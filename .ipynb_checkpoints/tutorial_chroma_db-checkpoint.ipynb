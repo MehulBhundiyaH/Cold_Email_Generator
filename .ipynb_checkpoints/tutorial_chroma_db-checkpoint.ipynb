{
 "cells": [
  {
   "cell_type": "code",
   "execution_count": 2,
   "id": "cf5058c8-1994-4d4e-8b3e-0f1fcf37b754",
   "metadata": {},
   "outputs": [],
   "source": [
    "import chromadb\n",
    "client = chromadb.Client()\n",
    "collection = client.create_collection(name=\"my_collection\")"
   ]
  },
  {
   "cell_type": "code",
   "execution_count": null,
   "id": "71d8468d-e7db-4bb7-ad04-2252abac7533",
   "metadata": {},
   "outputs": [],
   "source": [
    "collection.add(\n",
    "    documents=[\n",
    "        \"This is the document of Mehul\",\n",
    "        \"This document is of Anushka\"\n",
    "    ],\n",
    "    ids=['id1','id2']\n",
    "    \n",
    ")"
   ]
  },
  {
   "cell_type": "code",
   "execution_count": null,
   "id": "9566f185-ba28-4204-9db7-49cfbfba79cf",
   "metadata": {},
   "outputs": [],
   "source": [
    "all_docs = collection.get()\n",
    "all_docs"
   ]
  }
 ],
 "metadata": {
  "kernelspec": {
   "display_name": "Python 3 (ipykernel)",
   "language": "python",
   "name": "python3"
  },
  "language_info": {
   "codemirror_mode": {
    "name": "ipython",
    "version": 3
   },
   "file_extension": ".py",
   "mimetype": "text/x-python",
   "name": "python",
   "nbconvert_exporter": "python",
   "pygments_lexer": "ipython3",
   "version": "3.11.5"
  }
 },
 "nbformat": 4,
 "nbformat_minor": 5
}
