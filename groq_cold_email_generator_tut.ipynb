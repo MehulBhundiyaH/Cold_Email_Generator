{
 "cells": [
  {
   "cell_type": "code",
   "execution_count": 1,
   "id": "ed101ae3-6469-4eab-a592-593616059114",
   "metadata": {},
   "outputs": [
    {
     "name": "stdout",
     "output_type": "stream",
     "text": [
      "IIT Mandi (Indian Institute of Technology Mandi) is a public technical university located in Mandi, Himachal Pradesh, India. It was established in 2009 and is one of the eight new Indian Institutes of Technology (IITs) established by the Ministry of Human Resource Development, Government of India.\n",
      "\n",
      "IIT Mandi offers undergraduate, postgraduate, and doctoral programs in various fields of engineering, sciences, and humanities. The institute has a strong focus on research and innovation, with state-of-the-art facilities and a faculty composed of renowned experts in their fields.\n",
      "\n",
      "Some of the key features of IIT Mandi include:\n",
      "\n",
      "1. Academic programs: IIT Mandi offers Bachelor of Technology (B.Tech), Master of Science (M.Sc), Master of Technology (M.Tech), and Doctor of Philosophy (Ph.D) programs in various disciplines.\n",
      "2. Research: The institute has a strong research focus, with faculty members and students working on various projects in areas such as energy, environment, healthcare, and materials science.\n",
      "3. Campus: The campus is located in the scenic town of Mandi, surrounded by the Himalayas, and has modern infrastructure, including academic buildings, hostels, and recreational facilities.\n",
      "4. Faculty: The faculty at IIT Mandi consists of experienced and renowned experts in their fields, with a strong commitment to teaching and research.\n",
      "5. Collaborations: IIT Mandi has collaborations with various national and international institutions, industries, and organizations, providing opportunities for students and faculty to engage in joint research projects and exchange programs.\n",
      "\n",
      "Overall, IIT Mandi is a premier technical institution in India, known for its academic excellence, innovative research, and scenic location.\n"
     ]
    }
   ],
   "source": [
    "from langchain_groq import ChatGroq\n",
    "\n",
    "llm = ChatGroq(\n",
    "    model=\"llama-3.3-70b-versatile\",\n",
    "    groq_api_key='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',\n",
    "    temperature=0.0,\n",
    "    max_retries=2,\n",
    "    # other params...\n",
    ")\n",
    "\n",
    "response = llm.invoke(\"Who is IIT Mandi?\")\n",
    "print(response.content)"
   ]
  }
 ],
 "metadata": {
  "kernelspec": {
   "display_name": "Python 3 (ipykernel)",
   "language": "python",
   "name": "python3"
  },
  "language_info": {
   "codemirror_mode": {
    "name": "ipython",
    "version": 3
   },
   "file_extension": ".py",
   "mimetype": "text/x-python",
   "name": "python",
   "nbconvert_exporter": "python",
   "pygments_lexer": "ipython3",
   "version": "3.11.5"
  }
 },
 "nbformat": 4,
 "nbformat_minor": 5
}
